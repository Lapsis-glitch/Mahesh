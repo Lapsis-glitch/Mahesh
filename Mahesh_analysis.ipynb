{
 "cells": [
  {
   "cell_type": "code",
   "execution_count": 13,
   "metadata": {},
   "outputs": [],
   "source": [
    "import numpy as np\n",
    "import matplotlib.pyplot as plt\n",
    "from scipy.optimize import curve_fit\n",
    "import base64\n",
    "import re\n",
    "import os"
   ]
  },
  {
   "cell_type": "code",
   "execution_count": 252,
   "metadata": {},
   "outputs": [],
   "source": [
    "#################################\n",
    "# Imports\n",
    "#################################\n",
    "def Parse_mzML(file):\n",
    "\n",
    "    #################################\n",
    "    # Decode the data from mzML files\n",
    "    #\n",
    "    # - file : path to mzML file\n",
    "    # - returns: - list of retention times\n",
    "    #            - list of intensities\n",
    "    #            - list of Q1 and Q3 masses\n",
    "    #################################\n",
    "    \n",
    "    binary = []\n",
    "    chrom_time = []\n",
    "    chrom_int = []\n",
    "\n",
    "    tag = []\n",
    "    Q1 = []\n",
    "    Q3 = []\n",
    "    temp = []\n",
    "    iterator = 0\n",
    "    testit = 0\n",
    "\n",
    "    f = open(file, 'r')\n",
    "    for line in f:\n",
    "        testit += 1\n",
    "        \n",
    "\n",
    "        #################################\n",
    "        # Decode retention time and intensity\n",
    "        #################################\n",
    "        \n",
    "        if \"time array\" in line:\n",
    "            time_data = True\n",
    "            intensity_data = False\n",
    "        if \"intensity array\" in line:\n",
    "            time_data = False\n",
    "            intensity_data = True\n",
    "        if \"64-bit float\" in line:\n",
    "            f_type = np.float64\n",
    "        if \"32-bit float\" in line:\n",
    "            f_type = np.float32\n",
    "        if \"<binary>\" in line:\n",
    "            binary = re.sub(\"<binary>\", \"\", re.sub(\"</binary>\", \"\", line.strip()))\n",
    "            decoded = base64.b64decode(binary)\n",
    "            array = np.frombuffer(decoded, f_type)\n",
    "            if f_type == np.float64:\n",
    "                if time_data == True:\n",
    "                    chrom_time.append([array, iterator])\n",
    "                    time_data = False\n",
    "                if intensity_data == True:\n",
    "                    chrom_int.append([array, iterator])\n",
    "                    iterator = iterator + 1\n",
    "                    intensity_data = False\n",
    "#                     print(testit)\n",
    "            else:\n",
    "                if time_data == True:\n",
    "                    chrom_time.append([array, iterator])\n",
    "                    time_data =False\n",
    "                if intensity_data == True:\n",
    "                    chrom_int.append([array, iterator])\n",
    "                    iterator = iterator + 1\n",
    "                    intensity_data = False\n",
    "                    \n",
    "        #################################\n",
    "        # Caution! this line is dependent on instrument/analysis\n",
    "        #################################         \n",
    "        if \"offset idRef=\\\"SRM \" in line:\n",
    "            temp = (line.strip().split())\n",
    "            for i in range(0, len(temp)):\n",
    "                if \"SIC\" in temp[i]:\n",
    "#                     print(temp[i+1].split('\"')[0].split(','))\n",
    "                    tag.append(temp[i+1].split('\"')[0].split(','))\n",
    "\n",
    "    f.close()\n",
    "    return (chrom_time[1:], chrom_int[1:], tag)\n",
    "\n",
    "def Parse_OP(file):\n",
    "    \n",
    "    info = []\n",
    "    f = open(file, 'r')\n",
    "    for line in f:\n",
    "        info.append(line.strip().split())\n",
    "    f.close()\n",
    "    return (info)\n",
    "\n",
    "def Match_names(mzml_data, op_data):\n",
    "\n",
    "    #################################\n",
    "    # Match the Q1 and Q3 values from the mzML to the ones in the MetIDQ OP\n",
    "    # - mzml_data : list of Q1 and Q3 mases returned by Parse_mzML\n",
    "    # - op_data : list of Q1 and Q3 and the corresponding name returned by Parse_MetIDQ_OP\n",
    "    # - returns: - list of names corresponsing to the chromatograms, in order\n",
    "    #################################\n",
    "    \n",
    "    analyte_list = []\n",
    "    for j in range(0, len(mzml_data)):\n",
    "        found = False\n",
    "        for i in range(0, len(op_data)):\n",
    "            if found == False:\n",
    "                if abs(float(mzml_data[j][0]) - float(op_data[i][1])) < 0.0001:\n",
    "#                     if abs(float(mzml_data[j][1]) - float(op_data[i][2])) < 0.11:\n",
    "                    analyte_list.append([op_data[i][0] , j])\n",
    "                    found = True\n",
    "                    \n",
    "    return (analyte_list)\n",
    "\n",
    "def convert(infile, outfile):\n",
    "    string = str(r'\"C:\\Users\\cerb_\\AppData\\Local\\Apps\\ProteoWizard 3.0.20146.3bd9b4ecf 64-bit\\msconvert.exe\" ' + str(infile) + r' -o ' + str(outfile))\n",
    "    stream = os.popen(string)\n",
    "    \n",
    "def Gauss(x, a, x0, sigma):\n",
    "    return a * np.exp(-(x - x0)**2 / (2 * sigma**2))\n",
    "\n",
    "def FWHM(X,Y):\n",
    "    half_max = np.max(Y) / 2.\n",
    "    idx1 = None\n",
    "    idx2 = None\n",
    "    passed = False\n",
    "    done = False\n",
    "    for i in range(len(Y)):\n",
    "        if passed == False:\n",
    "            if Y[i] >= half_max:\n",
    "                idx1 = i\n",
    "                passed = True\n",
    "        else:\n",
    "            if Y[i] < half_max:\n",
    "                idx2 = i\n",
    "                done = True\n",
    "\n",
    "        if done == True:\n",
    "            break\n",
    "    print('values are',X[idx1],X[idx2])\n",
    "    \n",
    "    return X[idx2] - X[idx1]"
   ]
  },
  {
   "cell_type": "markdown",
   "metadata": {},
   "source": [
    "Change here:\n",
    "infile is the raw data file\n",
    "outfile is the folder where to save it"
   ]
  },
  {
   "cell_type": "code",
   "execution_count": 65,
   "metadata": {},
   "outputs": [],
   "source": [
    "infile = r'C:\\Users\\cerb_\\Desktop\\Mahesh\\ALlAcylCN_0,0833uM_45oC,0,4mlmin_05.raw'\n",
    "outfile = r'C:\\Users\\cerb_\\Desktop\\Mahesh'"
   ]
  },
  {
   "cell_type": "code",
   "execution_count": 28,
   "metadata": {},
   "outputs": [],
   "source": [
    "convert(infile,outfile)"
   ]
  },
  {
   "cell_type": "code",
   "execution_count": 66,
   "metadata": {},
   "outputs": [],
   "source": [
    "file = r'C:\\Users\\cerb_\\Desktop\\Mahesh\\ALlAcylCN_0,0833uM_45oC,0,4mlmin_05.mzML'"
   ]
  },
  {
   "cell_type": "code",
   "execution_count": 209,
   "metadata": {},
   "outputs": [],
   "source": [
    "RT,INT,tag = Parse_mzML(file)"
   ]
  },
  {
   "cell_type": "code",
   "execution_count": 211,
   "metadata": {},
   "outputs": [],
   "source": [
    "OP = r'C:\\Users\\cerb_\\Desktop\\Mahesh\\OP.txt'\n",
    "info = Parse_OP(OP)"
   ]
  },
  {
   "cell_type": "code",
   "execution_count": 212,
   "metadata": {},
   "outputs": [],
   "source": [
    "matches = Match_names(tag,info)"
   ]
  },
  {
   "cell_type": "code",
   "execution_count": 214,
   "metadata": {},
   "outputs": [
    {
     "data": {
      "text/plain": [
       "[['C0', 0],\n",
       " ['d3-C0', 1],\n",
       " ['C2', 2],\n",
       " ['d3-C2', 3],\n",
       " ['C3', 4],\n",
       " ['d3-C3', 5],\n",
       " ['iC4', 6],\n",
       " ['d3-C4', 7],\n",
       " ['C5:1', 8],\n",
       " ['C5:1', 9],\n",
       " ['C5-P', 10],\n",
       " ['C3-DC', 11],\n",
       " ['C3-DC', 12],\n",
       " ['d9-C5', 13],\n",
       " ['C6', 14],\n",
       " ['C6', 15],\n",
       " ['C4-DC', 16],\n",
       " ['C4-DC', 17],\n",
       " ['C4-DC', 18],\n",
       " ['C4-DC', 19],\n",
       " ['d3-C6', 20],\n",
       " ['C5-DC', 21],\n",
       " ['C5-DC', 22],\n",
       " ['C8:1', 24],\n",
       " ['C8', 25],\n",
       " ['C6-DC', 26],\n",
       " ['C6-DC', 27],\n",
       " ['C6-DC', 28],\n",
       " ['d3-C8', 29],\n",
       " ['C10:1', 30],\n",
       " ['C10', 31],\n",
       " ['C8-DC', 32],\n",
       " ['d3-C10', 33],\n",
       " ['C12:1', 34],\n",
       " ['C12', 35],\n",
       " ['C10-DC', 36],\n",
       " ['d3-C12', 37],\n",
       " ['C12-OH', 38],\n",
       " ['C14:2', 39],\n",
       " ['C14:1', 40],\n",
       " ['C14', 41],\n",
       " ['d3-C14', 42],\n",
       " ['cis-9-C16:1', 43],\n",
       " ['C16', 44],\n",
       " ['d3-C16', 45],\n",
       " ['C16:1-OH', 46],\n",
       " ['C16-OH', 47],\n",
       " ['C18:2', 48],\n",
       " ['C18:1', 49],\n",
       " ['C18', 50],\n",
       " ['d3-C18', 51],\n",
       " ['C18:1-OH', 52],\n",
       " ['C18-OH', 53],\n",
       " ['C20:4', 54]]"
      ]
     },
     "execution_count": 214,
     "metadata": {},
     "output_type": "execute_result"
    }
   ],
   "source": [
    "matches"
   ]
  },
  {
   "cell_type": "code",
   "execution_count": 273,
   "metadata": {
    "scrolled": true
   },
   "outputs": [
    {
     "data": {
      "image/png": "[encoded data removed]",
      "text/plain": [
       "<Figure size 432x288 with 1 Axes>"
      ]
     },
     "metadata": {
      "needs_background": "light"
     },
     "output_type": "display_data"
    },
    {
     "data": {
      "image/png": "[encoded data removed]",
      "text/plain": [
       "<Figure size 432x288 with 1 Axes>"
      ]
     },
     "metadata": {
      "needs_background": "light"
     },
     "output_type": "display_data"
    }
   ],
   "source": [
    "idx = 10\n",
    "limit = 3.12\n",
    "limit2 = None\n",
    "limit2 = 3.25\n",
    "x1 = []\n",
    "y1 = []\n",
    "x2 = []\n",
    "y2 = []\n",
    "x3 = []\n",
    "y3 = []\n",
    "\n",
    "\n",
    "for i in range(len(RT[idx][0])):\n",
    "    if RT[idx][0][i] < limit:\n",
    "        x1.append(RT[idx][0][i])\n",
    "        y1.append(INT[idx][0][i])\n",
    "    elif limit2 == None:\n",
    "        x2.append(RT[idx][0][i])\n",
    "        y2.append(INT[idx][0][i])\n",
    "    elif limit2 != None:\n",
    "        if RT[idx][0][i] > limit and RT[idx][0][i] < limit2 :\n",
    "            x2.append(RT[idx][0][i])\n",
    "            y2.append(INT[idx][0][i])\n",
    "        else: \n",
    "            x3.append(RT[idx][0][i])\n",
    "            y3.append(INT[idx][0][i])\n",
    "X = [x1,x2]\n",
    "Y = [y1,y2]\n",
    "if limit2:\n",
    "    X = [x1,x2,x3]\n",
    "    Y = [y1,y2,x3]\n",
    "\n",
    "\n",
    "plt.plot(RT[idx][0], INT[idx][0])\n",
    "plt.show()\n",
    "fit = []\n",
    "fit_data = []\n",
    "for i in range(len(X)):\n",
    "    x = np.array(X[i])\n",
    "    y = np.array(Y[i])\n",
    "\n",
    "    # weighted arithmetic mean (corrected - check the section below)\n",
    "    mean = sum(x * y) / sum(y)\n",
    "    sigma = np.sqrt(sum(y * (x - mean)**2) / sum(y))\n",
    "\n",
    "    popt,pcov = curve_fit(Gauss, x, y, p0=[max(y), mean, sigma])\n",
    "    fit_data.append([popt,pcov])\n",
    "    \n",
    "    fit.append(Gauss(x, *popt))\n",
    "    \n",
    "plt.plot(x1, y1, 'g', label='data')\n",
    "plt.plot(x1, fit[0], 'r-', label='fit')\n",
    "plt.plot(x2, y2, 'g', label='data')\n",
    "plt.plot(x2, fit[1], 'b-', label='fit')\n",
    "if limit2:\n",
    "    plt.plot(x3, y3, 'g', label='data')\n",
    "    plt.plot(x3, fit[2], 'b-', label='fit')\n",
    "plt.legend()\n",
    "plt.title(str(matches[idx][0]))\n",
    "plt.xlabel('Time (s)')\n",
    "plt.ylabel('Intensity (cps)')\n",
    "plt.show()"
   ]
  },
  {
   "cell_type": "code",
   "execution_count": 281,
   "metadata": {
    "scrolled": true
   },
   "outputs": [
    {
     "name": "stdout",
     "output_type": "stream",
     "text": [
      "values are 3.0700520874264243 3.10717780484943\n",
      "values are 3.1848146050630923 3.2112767404927043\n",
      "values are 3.252816677093506 3.255913470694441\n",
      "width 1 is:  0.03712571742300552\n",
      "width 2 is:  0.026462135429611955\n",
      "width 3 is:  0.003096793600934955\n"
     ]
    }
   ],
   "source": [
    "RTp1 = RT[idx][0][np.argmax(fit[0])]\n",
    "RTp2 = RT[idx][0][np.argmax(fit[1]) + len(X[0])]\n",
    "RTp3 = RT[idx][0][np.argmax(fit[2]) + len(X[0])+ len(X[1])]\n",
    "x = np.linspace(RT[idx][0][0],RT[idx][0][len(X[0])], 500)\n",
    "new_fit = Gauss(x, *fit_data[0][0])\n",
    "w1 = FWHM(x,new_fit)\n",
    "x = np.linspace(RT[idx][0][len(X[0])],RT[idx][0][len(X[1])+ len(X[0])-1], 500)\n",
    "new_fit = Gauss(x, *fit_data[1][0])\n",
    "w2 = FWHM(x,new_fit)\n",
    "if limit2 != None:\n",
    "    x = np.linspace(RT[idx][0][len(X[1])+ len(X[0])],RT[idx][0][-1], 500)\n",
    "    new_fit = Gauss(x, *fit_data[1][0])\n",
    "    w3 = FWHM(x,new_fit)\n",
    "print('width 1 is: ', w1)\n",
    "print('width 2 is: ', w2)\n",
    "\n",
    "if limit2 != None:\n",
    "    print('width 3 is: ', w3)"
   ]
  },
  {
   "cell_type": "code",
   "execution_count": 282,
   "metadata": {},
   "outputs": [],
   "source": [
    "peak3 = True"
   ]
  },
  {
   "cell_type": "code",
   "execution_count": 283,
   "metadata": {},
   "outputs": [
    {
     "name": "stdout",
     "output_type": "stream",
     "text": [
      "RS is:  -12.53\n",
      "Separation factor is:  1.037\n",
      "RS is:  -80.5\n",
      "Separation factor is:  1.5\n"
     ]
    }
   ],
   "source": [
    "RS = (RTp2 - RTp1)/(0.85*(w2 - w1))\n",
    "Sep_fac = RTp2/RTp1\n",
    "print('RS is: ', round(RS,2))\n",
    "print('Separation factor is: ', round(Sep_fac,3))\n",
    "\n",
    "if peak3 == True:\n",
    "    RS = (RTp3 - RTp2)/(0.85*(w3 - w2))\n",
    "    Sep_fac = RTp3/RTp2\n",
    "    print('RS is: ', round(RS,2))\n",
    "    print('Separation factor is: ', round(Sep_fac,3))\n",
    "\n",
    "output = r'C:\\Users\\cerb_\\Desktop\\Mahesh\\output.txt'\n",
    "f = open(output,'a')\n",
    "f.write(str(matches[idx][0]) + ' ' + str(RS) + ' ' + str(Sep_fac) + '\\n')\n",
    "f.close()"
   ]
  }
 ],
 "metadata": {
  "kernelspec": {
   "display_name": "Python 3",
   "language": "python",
   "name": "python3"
  },
  "language_info": {
   "codemirror_mode": {
    "name": "ipython",
    "version": 3
   },
   "file_extension": ".py",
   "mimetype": "text/x-python",
   "name": "python",
   "nbconvert_exporter": "python",
   "pygments_lexer": "ipython3",
   "version": "3.7.0"
  }
 },
 "nbformat": 4,
 "nbformat_minor": 2
}
